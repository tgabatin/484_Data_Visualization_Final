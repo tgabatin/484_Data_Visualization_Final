{
 "cells": [
  {
   "cell_type": "markdown",
   "metadata": {},
   "source": [
    "# World Happiness Report"
   ]
  },
  {
   "cell_type": "markdown",
   "metadata": {},
   "source": [
    "This project intends to classify the happiness across continents in the World. The data is supplied through the World Happiness Report index, which takes variable data that classifies the \"Happiness Index\" of countries across the world. This data is then compiled and cleaned to represent the factors that affect the happiness levels of individuals. \n",
    "\n",
    "To make this data visualiztion more compelling, other variables were also factored in to determine where a person should live depending on the variables that are most important to them. "
   ]
  }
 ],
 "metadata": {
  "kernelspec": {
   "display_name": "Python 3",
   "language": "python",
   "name": "python3"
  },
  "language_info": {
   "codemirror_mode": {
    "name": "ipython",
    "version": 3
   },
   "file_extension": ".py",
   "mimetype": "text/x-python",
   "name": "python",
   "nbconvert_exporter": "python",
   "pygments_lexer": "ipython3",
   "version": "3.8.5"
  }
 },
 "nbformat": 4,
 "nbformat_minor": 4
}
